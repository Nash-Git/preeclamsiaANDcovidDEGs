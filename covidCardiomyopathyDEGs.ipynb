{
 "cells": [
  {
   "cell_type": "markdown",
   "metadata": {},
   "source": [
    "# Common DEGs between Preeclamsia and Covid Patients"
   ]
  },
  {
   "cell_type": "code",
   "execution_count": 1,
   "metadata": {},
   "outputs": [],
   "source": [
    "import numpy as np\n",
    "import pandas as pd"
   ]
  },
  {
   "cell_type": "code",
   "execution_count": 2,
   "metadata": {},
   "outputs": [],
   "source": [
    "df_pre_down = pd.read_excel('preeclamsiaGSE48424DEG.xlsx',sheet_name='downRegulated')"
   ]
  },
  {
   "cell_type": "code",
   "execution_count": 3,
   "metadata": {},
   "outputs": [
    {
     "data": {
      "text/html": [
       "<div>\n",
       "<style scoped>\n",
       "    .dataframe tbody tr th:only-of-type {\n",
       "        vertical-align: middle;\n",
       "    }\n",
       "\n",
       "    .dataframe tbody tr th {\n",
       "        vertical-align: top;\n",
       "    }\n",
       "\n",
       "    .dataframe thead th {\n",
       "        text-align: right;\n",
       "    }\n",
       "</style>\n",
       "<table border=\"1\" class=\"dataframe\">\n",
       "  <thead>\n",
       "    <tr style=\"text-align: right;\">\n",
       "      <th></th>\n",
       "      <th>Unnamed: 0</th>\n",
       "      <th>ID</th>\n",
       "      <th>adj.P.Val</th>\n",
       "      <th>P.Value</th>\n",
       "      <th>t</th>\n",
       "      <th>B</th>\n",
       "      <th>logFC</th>\n",
       "      <th>Gene.symbol</th>\n",
       "      <th>Gene.title</th>\n",
       "      <th>absolute_logFC</th>\n",
       "    </tr>\n",
       "  </thead>\n",
       "  <tbody>\n",
       "    <tr>\n",
       "      <td>0</td>\n",
       "      <td>0</td>\n",
       "      <td>A_23_P348257</td>\n",
       "      <td>0.01988</td>\n",
       "      <td>0.000066</td>\n",
       "      <td>-4.501782</td>\n",
       "      <td>1.679898</td>\n",
       "      <td>-1.251253</td>\n",
       "      <td>NUAK1</td>\n",
       "      <td>NUAK family kinase 1</td>\n",
       "      <td>1.251253</td>\n",
       "    </tr>\n",
       "    <tr>\n",
       "      <td>1</td>\n",
       "      <td>1</td>\n",
       "      <td>A_32_P159989</td>\n",
       "      <td>0.02280</td>\n",
       "      <td>0.000112</td>\n",
       "      <td>-4.324853</td>\n",
       "      <td>1.200479</td>\n",
       "      <td>-1.012997</td>\n",
       "      <td>NKAPP1</td>\n",
       "      <td>NFKB activating protein pseudogene 1</td>\n",
       "      <td>1.012997</td>\n",
       "    </tr>\n",
       "  </tbody>\n",
       "</table>\n",
       "</div>"
      ],
      "text/plain": [
       "   Unnamed: 0            ID  adj.P.Val   P.Value         t         B  \\\n",
       "0           0  A_23_P348257    0.01988  0.000066 -4.501782  1.679898   \n",
       "1           1  A_32_P159989    0.02280  0.000112 -4.324853  1.200479   \n",
       "\n",
       "      logFC Gene.symbol                            Gene.title  absolute_logFC  \n",
       "0 -1.251253       NUAK1                  NUAK family kinase 1        1.251253  \n",
       "1 -1.012997      NKAPP1  NFKB activating protein pseudogene 1        1.012997  "
      ]
     },
     "execution_count": 3,
     "metadata": {},
     "output_type": "execute_result"
    }
   ],
   "source": [
    "df_pre_down.head(2)"
   ]
  },
  {
   "cell_type": "code",
   "execution_count": 4,
   "metadata": {},
   "outputs": [
    {
     "data": {
      "text/plain": [
       "(12, 10)"
      ]
     },
     "execution_count": 4,
     "metadata": {},
     "output_type": "execute_result"
    }
   ],
   "source": [
    "df_pre_down.shape"
   ]
  },
  {
   "cell_type": "code",
   "execution_count": 5,
   "metadata": {},
   "outputs": [],
   "source": [
    "df_pre_up = pd.read_excel('preeclamsiaGSE48424DEG.xlsx',sheet_name='upRegulated')"
   ]
  },
  {
   "cell_type": "code",
   "execution_count": 6,
   "metadata": {},
   "outputs": [
    {
     "data": {
      "text/html": [
       "<div>\n",
       "<style scoped>\n",
       "    .dataframe tbody tr th:only-of-type {\n",
       "        vertical-align: middle;\n",
       "    }\n",
       "\n",
       "    .dataframe tbody tr th {\n",
       "        vertical-align: top;\n",
       "    }\n",
       "\n",
       "    .dataframe thead th {\n",
       "        text-align: right;\n",
       "    }\n",
       "</style>\n",
       "<table border=\"1\" class=\"dataframe\">\n",
       "  <thead>\n",
       "    <tr style=\"text-align: right;\">\n",
       "      <th></th>\n",
       "      <th>Unnamed: 0</th>\n",
       "      <th>ID</th>\n",
       "      <th>adj.P.Val</th>\n",
       "      <th>P.Value</th>\n",
       "      <th>t</th>\n",
       "      <th>B</th>\n",
       "      <th>logFC</th>\n",
       "      <th>Gene.symbol</th>\n",
       "      <th>Gene.title</th>\n",
       "      <th>absolute_logFC</th>\n",
       "    </tr>\n",
       "  </thead>\n",
       "  <tbody>\n",
       "    <tr>\n",
       "      <td>0</td>\n",
       "      <td>0</td>\n",
       "      <td>A_23_P324718</td>\n",
       "      <td>0.00586</td>\n",
       "      <td>8.580000e-07</td>\n",
       "      <td>5.904928</td>\n",
       "      <td>5.570423</td>\n",
       "      <td>1.119439</td>\n",
       "      <td>SYNJ1</td>\n",
       "      <td>synaptojanin 1</td>\n",
       "      <td>1.119439</td>\n",
       "    </tr>\n",
       "    <tr>\n",
       "      <td>1</td>\n",
       "      <td>1</td>\n",
       "      <td>A_24_P123190</td>\n",
       "      <td>0.00737</td>\n",
       "      <td>1.610000e-06</td>\n",
       "      <td>5.702846</td>\n",
       "      <td>5.007608</td>\n",
       "      <td>1.536447</td>\n",
       "      <td>PLD1</td>\n",
       "      <td>phospholipase D1</td>\n",
       "      <td>1.536447</td>\n",
       "    </tr>\n",
       "  </tbody>\n",
       "</table>\n",
       "</div>"
      ],
      "text/plain": [
       "   Unnamed: 0            ID  adj.P.Val       P.Value         t         B  \\\n",
       "0           0  A_23_P324718    0.00586  8.580000e-07  5.904928  5.570423   \n",
       "1           1  A_24_P123190    0.00737  1.610000e-06  5.702846  5.007608   \n",
       "\n",
       "      logFC Gene.symbol        Gene.title  absolute_logFC  \n",
       "0  1.119439       SYNJ1    synaptojanin 1        1.119439  \n",
       "1  1.536447        PLD1  phospholipase D1        1.536447  "
      ]
     },
     "execution_count": 6,
     "metadata": {},
     "output_type": "execute_result"
    }
   ],
   "source": [
    "df_pre_up.head(2)"
   ]
  },
  {
   "cell_type": "code",
   "execution_count": 7,
   "metadata": {},
   "outputs": [
    {
     "data": {
      "text/plain": [
       "(53, 10)"
      ]
     },
     "execution_count": 7,
     "metadata": {},
     "output_type": "execute_result"
    }
   ],
   "source": [
    "df_pre_up.shape"
   ]
  },
  {
   "cell_type": "code",
   "execution_count": 8,
   "metadata": {},
   "outputs": [],
   "source": [
    "df_covid_down = pd.read_excel('covidDEGs.xlsx',sheet_name='downRegulated')"
   ]
  },
  {
   "cell_type": "code",
   "execution_count": 9,
   "metadata": {},
   "outputs": [
    {
     "data": {
      "text/html": [
       "<div>\n",
       "<style scoped>\n",
       "    .dataframe tbody tr th:only-of-type {\n",
       "        vertical-align: middle;\n",
       "    }\n",
       "\n",
       "    .dataframe tbody tr th {\n",
       "        vertical-align: top;\n",
       "    }\n",
       "\n",
       "    .dataframe thead th {\n",
       "        text-align: right;\n",
       "    }\n",
       "</style>\n",
       "<table border=\"1\" class=\"dataframe\">\n",
       "  <thead>\n",
       "    <tr style=\"text-align: right;\">\n",
       "      <th></th>\n",
       "      <th>Unnamed: 0</th>\n",
       "      <th>index</th>\n",
       "      <th>Gid</th>\n",
       "      <th>GENE_SYMBOL</th>\n",
       "      <th>CPM-N1</th>\n",
       "      <th>CPM-N2</th>\n",
       "      <th>CPM-N3</th>\n",
       "      <th>CPM-P1</th>\n",
       "      <th>CPM-P2</th>\n",
       "      <th>CPM-P3</th>\n",
       "      <th>baseMean</th>\n",
       "      <th>log2FoldChange</th>\n",
       "      <th>abslFC</th>\n",
       "      <th>lfcSE</th>\n",
       "      <th>stat</th>\n",
       "      <th>pvalue</th>\n",
       "      <th>padj</th>\n",
       "      <th>log10P</th>\n",
       "      <th>Tag</th>\n",
       "    </tr>\n",
       "  </thead>\n",
       "  <tbody>\n",
       "    <tr>\n",
       "      <td>0</td>\n",
       "      <td>0</td>\n",
       "      <td>0</td>\n",
       "      <td>ENSG00000134184.13</td>\n",
       "      <td>GSTM1</td>\n",
       "      <td>7.34</td>\n",
       "      <td>4.62</td>\n",
       "      <td>6.22</td>\n",
       "      <td>0.07</td>\n",
       "      <td>0.21</td>\n",
       "      <td>0.21</td>\n",
       "      <td>290.84</td>\n",
       "      <td>-5.01</td>\n",
       "      <td>5.01</td>\n",
       "      <td>0.36</td>\n",
       "      <td>-13.82</td>\n",
       "      <td>1.920000e-43</td>\n",
       "      <td>5.440000e-39</td>\n",
       "      <td>38.264401</td>\n",
       "      <td>Down</td>\n",
       "    </tr>\n",
       "    <tr>\n",
       "      <td>1</td>\n",
       "      <td>1</td>\n",
       "      <td>2</td>\n",
       "      <td>ENSG00000233392.5</td>\n",
       "      <td>AC104809</td>\n",
       "      <td>13.87</td>\n",
       "      <td>5.25</td>\n",
       "      <td>11.97</td>\n",
       "      <td>0.02</td>\n",
       "      <td>0.26</td>\n",
       "      <td>0.09</td>\n",
       "      <td>462.90</td>\n",
       "      <td>-6.13</td>\n",
       "      <td>6.13</td>\n",
       "      <td>0.60</td>\n",
       "      <td>-10.27</td>\n",
       "      <td>9.900000e-25</td>\n",
       "      <td>9.360000e-21</td>\n",
       "      <td>20.028724</td>\n",
       "      <td>Down</td>\n",
       "    </tr>\n",
       "  </tbody>\n",
       "</table>\n",
       "</div>"
      ],
      "text/plain": [
       "   Unnamed: 0  index                 Gid GENE_SYMBOL  CPM-N1  CPM-N2  CPM-N3  \\\n",
       "0           0      0  ENSG00000134184.13       GSTM1    7.34    4.62    6.22   \n",
       "1           1      2   ENSG00000233392.5    AC104809   13.87    5.25   11.97   \n",
       "\n",
       "   CPM-P1  CPM-P2  CPM-P3  baseMean  log2FoldChange  abslFC  lfcSE   stat  \\\n",
       "0    0.07    0.21    0.21    290.84           -5.01    5.01   0.36 -13.82   \n",
       "1    0.02    0.26    0.09    462.90           -6.13    6.13   0.60 -10.27   \n",
       "\n",
       "         pvalue          padj     log10P   Tag  \n",
       "0  1.920000e-43  5.440000e-39  38.264401  Down  \n",
       "1  9.900000e-25  9.360000e-21  20.028724  Down  "
      ]
     },
     "execution_count": 9,
     "metadata": {},
     "output_type": "execute_result"
    }
   ],
   "source": [
    "df_covid_down.head(2)"
   ]
  },
  {
   "cell_type": "code",
   "execution_count": 10,
   "metadata": {},
   "outputs": [
    {
     "data": {
      "text/plain": [
       "(599, 19)"
      ]
     },
     "execution_count": 10,
     "metadata": {},
     "output_type": "execute_result"
    }
   ],
   "source": [
    "df_covid_down.shape"
   ]
  },
  {
   "cell_type": "code",
   "execution_count": 11,
   "metadata": {},
   "outputs": [],
   "source": [
    "df_covid_up = pd.read_excel('covidDEGs.xlsx',sheet_name='upRegulated')"
   ]
  },
  {
   "cell_type": "code",
   "execution_count": 12,
   "metadata": {},
   "outputs": [
    {
     "data": {
      "text/html": [
       "<div>\n",
       "<style scoped>\n",
       "    .dataframe tbody tr th:only-of-type {\n",
       "        vertical-align: middle;\n",
       "    }\n",
       "\n",
       "    .dataframe tbody tr th {\n",
       "        vertical-align: top;\n",
       "    }\n",
       "\n",
       "    .dataframe thead th {\n",
       "        text-align: right;\n",
       "    }\n",
       "</style>\n",
       "<table border=\"1\" class=\"dataframe\">\n",
       "  <thead>\n",
       "    <tr style=\"text-align: right;\">\n",
       "      <th></th>\n",
       "      <th>Unnamed: 0</th>\n",
       "      <th>index</th>\n",
       "      <th>Gid</th>\n",
       "      <th>GENE_SYMBOL</th>\n",
       "      <th>CPM-N1</th>\n",
       "      <th>CPM-N2</th>\n",
       "      <th>CPM-N3</th>\n",
       "      <th>CPM-P1</th>\n",
       "      <th>CPM-P2</th>\n",
       "      <th>CPM-P3</th>\n",
       "      <th>baseMean</th>\n",
       "      <th>log2FoldChange</th>\n",
       "      <th>abslFC</th>\n",
       "      <th>lfcSE</th>\n",
       "      <th>stat</th>\n",
       "      <th>pvalue</th>\n",
       "      <th>padj</th>\n",
       "      <th>log10P</th>\n",
       "      <th>Tag</th>\n",
       "    </tr>\n",
       "  </thead>\n",
       "  <tbody>\n",
       "    <tr>\n",
       "      <td>0</td>\n",
       "      <td>0</td>\n",
       "      <td>1</td>\n",
       "      <td>ENSG00000211934.3</td>\n",
       "      <td>IGHV1</td>\n",
       "      <td>0.46</td>\n",
       "      <td>0.25</td>\n",
       "      <td>0.36</td>\n",
       "      <td>5.14</td>\n",
       "      <td>20.56</td>\n",
       "      <td>63.93</td>\n",
       "      <td>1361.64</td>\n",
       "      <td>6.36</td>\n",
       "      <td>6.36</td>\n",
       "      <td>0.60</td>\n",
       "      <td>10.51</td>\n",
       "      <td>7.580000e-26</td>\n",
       "      <td>1.070000e-21</td>\n",
       "      <td>20.970616</td>\n",
       "      <td>Up</td>\n",
       "    </tr>\n",
       "    <tr>\n",
       "      <td>1</td>\n",
       "      <td>1</td>\n",
       "      <td>3</td>\n",
       "      <td>ENSG00000198848.12</td>\n",
       "      <td>CES1</td>\n",
       "      <td>3.84</td>\n",
       "      <td>0.83</td>\n",
       "      <td>4.96</td>\n",
       "      <td>185.00</td>\n",
       "      <td>76.06</td>\n",
       "      <td>398.24</td>\n",
       "      <td>12508.37</td>\n",
       "      <td>6.53</td>\n",
       "      <td>6.53</td>\n",
       "      <td>0.65</td>\n",
       "      <td>10.12</td>\n",
       "      <td>4.690000e-24</td>\n",
       "      <td>3.330000e-20</td>\n",
       "      <td>19.477556</td>\n",
       "      <td>Up</td>\n",
       "    </tr>\n",
       "  </tbody>\n",
       "</table>\n",
       "</div>"
      ],
      "text/plain": [
       "   Unnamed: 0  index                 Gid GENE_SYMBOL  CPM-N1  CPM-N2  CPM-N3  \\\n",
       "0           0      1   ENSG00000211934.3       IGHV1    0.46    0.25    0.36   \n",
       "1           1      3  ENSG00000198848.12        CES1    3.84    0.83    4.96   \n",
       "\n",
       "   CPM-P1  CPM-P2  CPM-P3  baseMean  log2FoldChange  abslFC  lfcSE   stat  \\\n",
       "0    5.14   20.56   63.93   1361.64            6.36    6.36   0.60  10.51   \n",
       "1  185.00   76.06  398.24  12508.37            6.53    6.53   0.65  10.12   \n",
       "\n",
       "         pvalue          padj     log10P Tag  \n",
       "0  7.580000e-26  1.070000e-21  20.970616  Up  \n",
       "1  4.690000e-24  3.330000e-20  19.477556  Up  "
      ]
     },
     "execution_count": 12,
     "metadata": {},
     "output_type": "execute_result"
    }
   ],
   "source": [
    "df_covid_up.head(2)"
   ]
  },
  {
   "cell_type": "code",
   "execution_count": 13,
   "metadata": {},
   "outputs": [
    {
     "data": {
      "text/plain": [
       "(1146, 19)"
      ]
     },
     "execution_count": 13,
     "metadata": {},
     "output_type": "execute_result"
    }
   ],
   "source": [
    "df_covid_up.shape"
   ]
  },
  {
   "cell_type": "code",
   "execution_count": 14,
   "metadata": {},
   "outputs": [],
   "source": [
    "df_covid_pre_down = pd.merge(df_pre_down,df_covid_down,how='inner',left_on='Gene.symbol',right_on='GENE_SYMBOL')"
   ]
  },
  {
   "cell_type": "code",
   "execution_count": 15,
   "metadata": {},
   "outputs": [],
   "source": [
    "df_covid_pre_up = pd.merge(df_pre_up,df_covid_up,how='inner',left_on='Gene.symbol',right_on='GENE_SYMBOL')"
   ]
  },
  {
   "cell_type": "code",
   "execution_count": 16,
   "metadata": {},
   "outputs": [
    {
     "data": {
      "text/html": [
       "<div>\n",
       "<style scoped>\n",
       "    .dataframe tbody tr th:only-of-type {\n",
       "        vertical-align: middle;\n",
       "    }\n",
       "\n",
       "    .dataframe tbody tr th {\n",
       "        vertical-align: top;\n",
       "    }\n",
       "\n",
       "    .dataframe thead th {\n",
       "        text-align: right;\n",
       "    }\n",
       "</style>\n",
       "<table border=\"1\" class=\"dataframe\">\n",
       "  <thead>\n",
       "    <tr style=\"text-align: right;\">\n",
       "      <th></th>\n",
       "      <th>Unnamed: 0_x</th>\n",
       "      <th>ID</th>\n",
       "      <th>adj.P.Val</th>\n",
       "      <th>P.Value</th>\n",
       "      <th>t</th>\n",
       "      <th>B</th>\n",
       "      <th>logFC</th>\n",
       "      <th>Gene.symbol</th>\n",
       "      <th>Gene.title</th>\n",
       "      <th>absolute_logFC</th>\n",
       "      <th>...</th>\n",
       "      <th>CPM-P3</th>\n",
       "      <th>baseMean</th>\n",
       "      <th>log2FoldChange</th>\n",
       "      <th>abslFC</th>\n",
       "      <th>lfcSE</th>\n",
       "      <th>stat</th>\n",
       "      <th>pvalue</th>\n",
       "      <th>padj</th>\n",
       "      <th>log10P</th>\n",
       "      <th>Tag</th>\n",
       "    </tr>\n",
       "  </thead>\n",
       "  <tbody>\n",
       "    <tr>\n",
       "      <td>0</td>\n",
       "      <td>0</td>\n",
       "      <td>A_23_P348257</td>\n",
       "      <td>0.01988</td>\n",
       "      <td>0.000066</td>\n",
       "      <td>-4.501782</td>\n",
       "      <td>1.679898</td>\n",
       "      <td>-1.251253</td>\n",
       "      <td>NUAK1</td>\n",
       "      <td>NUAK family kinase 1</td>\n",
       "      <td>1.251253</td>\n",
       "      <td>...</td>\n",
       "      <td>0.59</td>\n",
       "      <td>378.4</td>\n",
       "      <td>-4.71</td>\n",
       "      <td>4.71</td>\n",
       "      <td>0.68</td>\n",
       "      <td>-6.92</td>\n",
       "      <td>4.380000e-12</td>\n",
       "      <td>2.180000e-09</td>\n",
       "      <td>8.661544</td>\n",
       "      <td>Down</td>\n",
       "    </tr>\n",
       "  </tbody>\n",
       "</table>\n",
       "<p>1 rows × 29 columns</p>\n",
       "</div>"
      ],
      "text/plain": [
       "   Unnamed: 0_x            ID  adj.P.Val   P.Value         t         B  \\\n",
       "0             0  A_23_P348257    0.01988  0.000066 -4.501782  1.679898   \n",
       "\n",
       "      logFC Gene.symbol            Gene.title  absolute_logFC  ...  CPM-P3  \\\n",
       "0 -1.251253       NUAK1  NUAK family kinase 1        1.251253  ...    0.59   \n",
       "\n",
       "   baseMean log2FoldChange abslFC  lfcSE  stat        pvalue          padj  \\\n",
       "0     378.4          -4.71   4.71   0.68 -6.92  4.380000e-12  2.180000e-09   \n",
       "\n",
       "     log10P   Tag  \n",
       "0  8.661544  Down  \n",
       "\n",
       "[1 rows x 29 columns]"
      ]
     },
     "execution_count": 16,
     "metadata": {},
     "output_type": "execute_result"
    }
   ],
   "source": [
    "df_covid_pre_down.head()"
   ]
  },
  {
   "cell_type": "code",
   "execution_count": 17,
   "metadata": {},
   "outputs": [
    {
     "data": {
      "text/html": [
       "<div>\n",
       "<style scoped>\n",
       "    .dataframe tbody tr th:only-of-type {\n",
       "        vertical-align: middle;\n",
       "    }\n",
       "\n",
       "    .dataframe tbody tr th {\n",
       "        vertical-align: top;\n",
       "    }\n",
       "\n",
       "    .dataframe thead th {\n",
       "        text-align: right;\n",
       "    }\n",
       "</style>\n",
       "<table border=\"1\" class=\"dataframe\">\n",
       "  <thead>\n",
       "    <tr style=\"text-align: right;\">\n",
       "      <th></th>\n",
       "      <th>Gene.symbol</th>\n",
       "      <th>GENE_SYMBOL</th>\n",
       "    </tr>\n",
       "  </thead>\n",
       "  <tbody>\n",
       "    <tr>\n",
       "      <td>0</td>\n",
       "      <td>NUAK1</td>\n",
       "      <td>NUAK1</td>\n",
       "    </tr>\n",
       "  </tbody>\n",
       "</table>\n",
       "</div>"
      ],
      "text/plain": [
       "  Gene.symbol GENE_SYMBOL\n",
       "0       NUAK1       NUAK1"
      ]
     },
     "execution_count": 17,
     "metadata": {},
     "output_type": "execute_result"
    }
   ],
   "source": [
    "df_covid_pre_down[['Gene.symbol','GENE_SYMBOL']]"
   ]
  },
  {
   "cell_type": "code",
   "execution_count": 18,
   "metadata": {},
   "outputs": [
    {
     "data": {
      "text/html": [
       "<div>\n",
       "<style scoped>\n",
       "    .dataframe tbody tr th:only-of-type {\n",
       "        vertical-align: middle;\n",
       "    }\n",
       "\n",
       "    .dataframe tbody tr th {\n",
       "        vertical-align: top;\n",
       "    }\n",
       "\n",
       "    .dataframe thead th {\n",
       "        text-align: right;\n",
       "    }\n",
       "</style>\n",
       "<table border=\"1\" class=\"dataframe\">\n",
       "  <thead>\n",
       "    <tr style=\"text-align: right;\">\n",
       "      <th></th>\n",
       "      <th>Unnamed: 0_x</th>\n",
       "      <th>ID</th>\n",
       "      <th>adj.P.Val</th>\n",
       "      <th>P.Value</th>\n",
       "      <th>t</th>\n",
       "      <th>B</th>\n",
       "      <th>logFC</th>\n",
       "      <th>Gene.symbol</th>\n",
       "      <th>Gene.title</th>\n",
       "      <th>absolute_logFC</th>\n",
       "      <th>...</th>\n",
       "      <th>CPM-P3</th>\n",
       "      <th>baseMean</th>\n",
       "      <th>log2FoldChange</th>\n",
       "      <th>abslFC</th>\n",
       "      <th>lfcSE</th>\n",
       "      <th>stat</th>\n",
       "      <th>pvalue</th>\n",
       "      <th>padj</th>\n",
       "      <th>log10P</th>\n",
       "      <th>Tag</th>\n",
       "    </tr>\n",
       "  </thead>\n",
       "  <tbody>\n",
       "    <tr>\n",
       "      <td>0</td>\n",
       "      <td>9</td>\n",
       "      <td>A_23_P6849</td>\n",
       "      <td>0.01696</td>\n",
       "      <td>0.000033</td>\n",
       "      <td>4.722490</td>\n",
       "      <td>2.283905</td>\n",
       "      <td>1.213366</td>\n",
       "      <td>CCR1</td>\n",
       "      <td>C-C motif chemokine receptor 1</td>\n",
       "      <td>1.213366</td>\n",
       "      <td>...</td>\n",
       "      <td>33.20</td>\n",
       "      <td>3232.29</td>\n",
       "      <td>2.25</td>\n",
       "      <td>2.25</td>\n",
       "      <td>0.70</td>\n",
       "      <td>3.24</td>\n",
       "      <td>0.00119</td>\n",
       "      <td>0.0183</td>\n",
       "      <td>1.737549</td>\n",
       "      <td>NC</td>\n",
       "    </tr>\n",
       "    <tr>\n",
       "      <td>1</td>\n",
       "      <td>34</td>\n",
       "      <td>A_23_P433204</td>\n",
       "      <td>0.03245</td>\n",
       "      <td>0.000279</td>\n",
       "      <td>4.016314</td>\n",
       "      <td>0.377601</td>\n",
       "      <td>1.105105</td>\n",
       "      <td>RHOT1</td>\n",
       "      <td>ras homolog family member T1</td>\n",
       "      <td>1.105105</td>\n",
       "      <td>...</td>\n",
       "      <td>105.85</td>\n",
       "      <td>5496.13</td>\n",
       "      <td>1.08</td>\n",
       "      <td>1.08</td>\n",
       "      <td>0.37</td>\n",
       "      <td>2.91</td>\n",
       "      <td>0.00361</td>\n",
       "      <td>0.0393</td>\n",
       "      <td>1.405607</td>\n",
       "      <td>NC</td>\n",
       "    </tr>\n",
       "  </tbody>\n",
       "</table>\n",
       "<p>2 rows × 29 columns</p>\n",
       "</div>"
      ],
      "text/plain": [
       "   Unnamed: 0_x            ID  adj.P.Val   P.Value         t         B  \\\n",
       "0             9    A_23_P6849    0.01696  0.000033  4.722490  2.283905   \n",
       "1            34  A_23_P433204    0.03245  0.000279  4.016314  0.377601   \n",
       "\n",
       "      logFC Gene.symbol                      Gene.title  absolute_logFC  ...  \\\n",
       "0  1.213366        CCR1  C-C motif chemokine receptor 1        1.213366  ...   \n",
       "1  1.105105       RHOT1    ras homolog family member T1        1.105105  ...   \n",
       "\n",
       "   CPM-P3  baseMean log2FoldChange abslFC  lfcSE  stat   pvalue    padj  \\\n",
       "0   33.20   3232.29           2.25   2.25   0.70  3.24  0.00119  0.0183   \n",
       "1  105.85   5496.13           1.08   1.08   0.37  2.91  0.00361  0.0393   \n",
       "\n",
       "     log10P  Tag  \n",
       "0  1.737549   NC  \n",
       "1  1.405607   NC  \n",
       "\n",
       "[2 rows x 29 columns]"
      ]
     },
     "execution_count": 18,
     "metadata": {},
     "output_type": "execute_result"
    }
   ],
   "source": [
    "df_covid_pre_up.head()"
   ]
  },
  {
   "cell_type": "code",
   "execution_count": 19,
   "metadata": {},
   "outputs": [
    {
     "data": {
      "text/html": [
       "<div>\n",
       "<style scoped>\n",
       "    .dataframe tbody tr th:only-of-type {\n",
       "        vertical-align: middle;\n",
       "    }\n",
       "\n",
       "    .dataframe tbody tr th {\n",
       "        vertical-align: top;\n",
       "    }\n",
       "\n",
       "    .dataframe thead th {\n",
       "        text-align: right;\n",
       "    }\n",
       "</style>\n",
       "<table border=\"1\" class=\"dataframe\">\n",
       "  <thead>\n",
       "    <tr style=\"text-align: right;\">\n",
       "      <th></th>\n",
       "      <th>Gene.symbol</th>\n",
       "      <th>GENE_SYMBOL</th>\n",
       "    </tr>\n",
       "  </thead>\n",
       "  <tbody>\n",
       "    <tr>\n",
       "      <td>0</td>\n",
       "      <td>CCR1</td>\n",
       "      <td>CCR1</td>\n",
       "    </tr>\n",
       "    <tr>\n",
       "      <td>1</td>\n",
       "      <td>RHOT1</td>\n",
       "      <td>RHOT1</td>\n",
       "    </tr>\n",
       "  </tbody>\n",
       "</table>\n",
       "</div>"
      ],
      "text/plain": [
       "  Gene.symbol GENE_SYMBOL\n",
       "0        CCR1        CCR1\n",
       "1       RHOT1       RHOT1"
      ]
     },
     "execution_count": 19,
     "metadata": {},
     "output_type": "execute_result"
    }
   ],
   "source": [
    "df_covid_pre_up[['Gene.symbol','GENE_SYMBOL']]"
   ]
  },
  {
   "cell_type": "code",
   "execution_count": 20,
   "metadata": {},
   "outputs": [],
   "source": [
    "df_output_down = df_covid_pre_down['Gene.symbol']"
   ]
  },
  {
   "cell_type": "code",
   "execution_count": 21,
   "metadata": {},
   "outputs": [],
   "source": [
    "df_output_up = df_covid_pre_up['Gene.symbol']"
   ]
  },
  {
   "cell_type": "code",
   "execution_count": 22,
   "metadata": {},
   "outputs": [],
   "source": [
    "writer = pd.ExcelWriter('covidPreeclamsia_commonDEGs.xlsx',engine='xlsxwriter')"
   ]
  },
  {
   "cell_type": "code",
   "execution_count": 23,
   "metadata": {},
   "outputs": [],
   "source": [
    "df_output_down.to_excel(writer,sheet_name='downRegulated')"
   ]
  },
  {
   "cell_type": "code",
   "execution_count": 24,
   "metadata": {},
   "outputs": [],
   "source": [
    "df_output_up.to_excel(writer,sheet_name='upRegulated')"
   ]
  },
  {
   "cell_type": "code",
   "execution_count": 25,
   "metadata": {},
   "outputs": [],
   "source": [
    "writer.save()\n",
    "writer.close()"
   ]
  }
 ],
 "metadata": {
  "kernelspec": {
   "display_name": "Python 3",
   "language": "python",
   "name": "python3"
  },
  "language_info": {
   "codemirror_mode": {
    "name": "ipython",
    "version": 3
   },
   "file_extension": ".py",
   "mimetype": "text/x-python",
   "name": "python",
   "nbconvert_exporter": "python",
   "pygments_lexer": "ipython3",
   "version": "3.7.4"
  }
 },
 "nbformat": 4,
 "nbformat_minor": 2
}
